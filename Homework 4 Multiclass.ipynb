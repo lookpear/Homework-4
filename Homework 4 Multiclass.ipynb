{
 "cells": [
  {
   "cell_type": "markdown",
   "metadata": {},
   "source": [
    "# Problem 1 Softmax Function\n",
    "\n",
    "We learned a ECOC in class which is a general way of turning any binary classifier into multiclass classifier. In this problem we will learn how to naturally extends logistics regression into multiclass classifier."
   ]
  },
  {
   "cell_type": "markdown",
   "metadata": {},
   "source": [
    "## Part 1) Softmax Function.\n",
    "\n",
    "In logistic regression we model the probability for data $\\vec{x}$ to be of class $y$ as\n",
    "\n",
    "$$\n",
    "    P(y | \\vec{x};\\vec{w}) = \\begin{cases}\n",
    "    \\theta(\\vec{w} \\cdot \\vec{x}) & \\text{if } y = +1\\\\\n",
    "    1 - \\theta(\\vec{w} \\cdot \\vec{x}) & \\text{if } y = -1\n",
    "    \\end{cases}\n",
    "$$\n",
    "where $\\theta(s) = \\frac{1}{1+\\exp(-s)} $\n",
    "\n",
    "Now we want to extends it to multiclass problem. This means that $y$ can attain more than two values eg: ($1,2,3,\\ldots,k$). Consider the softmax function\n",
    "$$\n",
    "P(y | \\vec{x}; \\vec{w_1}, \\vec{w_2}, \\ldots, \\vec{w_k}) = \\frac{\\exp(\\vec{w_y}\\cdot\\vec{x})}{\\sum_{i=1\\ldots k}{\\exp(\\vec{w_i}\\cdot\\vec{x})}}\n",
    "$$"
   ]
  },
  {
   "cell_type": "markdown",
   "metadata": {},
   "source": [
    "### Task 1.1 Knowing the Symbols\n",
    "\n",
    "Given \n",
    "- $\\vec{w_1} = [1,2,3]$\n",
    "- $\\vec{w_2} = [4,5,6]$\n",
    "- $\\vec{w_3} = [7,8,9]$\n",
    "- $\\vec{x} = [1,-2,-3]$\n",
    "\n",
    "Find $P(1|\\vec{x}; W)$, $P(2|\\vec{x}; W)$, $P(3|\\vec{x}; W)$.\n",
    "\n",
    "Where $W = \\{ \\vec{w_1}, \\vec{w_2}, \\vec{w_3} \\}$\n"
   ]
  },
  {
   "cell_type": "code",
   "execution_count": null,
   "metadata": {},
   "outputs": [],
   "source": []
  },
  {
   "cell_type": "markdown",
   "metadata": {},
   "source": [
    "### Task 1.2\n",
    "\n",
    "Explain/proof why the range of \n",
    "$$\n",
    "P(y | \\vec{x}; \\vec{w_1}, \\vec{w_2}, \\ldots, \\vec{w_k}) = \\frac{\\exp(\\vec{w_y}\\cdot\\vec{x})}{\\sum_{i=1\\ldots k}{\\exp(\\vec{w_i}\\cdot\\vec{x})}}\n",
    "$$\n",
    "is between $(0,1)$. Short explanation is suffice.\n"
   ]
  },
  {
   "cell_type": "code",
   "execution_count": null,
   "metadata": {},
   "outputs": [],
   "source": []
  },
  {
   "cell_type": "markdown",
   "metadata": {},
   "source": [
    "### Task 1.3"
   ]
  },
  {
   "cell_type": "markdown",
   "metadata": {},
   "source": [
    "Given the data $y^{(i)}$ and $\\vec{x}^{(i)}$ for $i=1\\ldots n$.\n",
    "\n",
    "Write the likelihood of obtaining this data.\n"
   ]
  },
  {
   "cell_type": "code",
   "execution_count": null,
   "metadata": {},
   "outputs": [],
   "source": []
  },
  {
   "cell_type": "markdown",
   "metadata": {},
   "source": [
    "### Task 1.4\n",
    "\n",
    "Suppose we want to use log-likelihood as our cost function(for minimize). Write down the cost function for obtaining the best $W$."
   ]
  },
  {
   "cell_type": "code",
   "execution_count": null,
   "metadata": {},
   "outputs": [],
   "source": []
  },
  {
   "cell_type": "markdown",
   "metadata": {},
   "source": [
    "## Part 2"
   ]
  },
  {
   "cell_type": "markdown",
   "metadata": {},
   "source": [
    "Given what you found in 4. Consider the [Wine Dataset](http://archive.ics.uci.edu/ml/datasets/Wine). We want to build a system to predict the wine origin (1,2,3) which is at the first column for the datafile. The data is in **data/wine.csv**.\n",
    "\n",
    "**Your Task**\n",
    "\n",
    "- Build a multiclass classifier  using softmax function.\n",
    "\n",
    "- Build show the [confusion matrix](http://www2.cs.uregina.ca/~dbd/cs831/notes/confusion_matrix/confusion_matrix.html) based on the train data. (This should be a 3x3 matrix)\n",
    "\n",
    "- Feature such as hue will need a non-linear transformation.\n",
    "\n"
   ]
  },
  {
   "cell_type": "code",
   "execution_count": null,
   "metadata": {},
   "outputs": [],
   "source": []
  },
  {
   "cell_type": "markdown",
   "metadata": {},
   "source": [
    "# Problem 2 [Usenet News](https://en.wikipedia.org/wiki/Usenet_newsgroup) Classifications\n",
    "\n",
    "At the dawn of internet. There exists a thing called usenet where people discuss various thing. Think about it as ancient reddit.\n",
    "\n",
    "In this problem we will be learning about how to deal with large($n=20$) number of classes with ECOC.\n",
    "\n",
    "The data is at **data/news_topic_train.csv.gz** and **data/news_topic_train.csv.gz**. You can just have panda read gzip file. No need to unzip it. The data is vectorized and cleaned data based on [20Newsgroups Dataset](http://qwone.com/~jason/20Newsgroups/). Read prepare.ipynb if you want to see what exactly I did in cleaning the data.\n",
    "\n",
    "Our goal for this problem is to build a classifier which can read the discussion and figure out which topic the discussion belongs to.\n",
    "\n",
    "**Don't forget to pad the data**"
   ]
  },
  {
   "cell_type": "markdown",
   "metadata": {},
   "source": [
    "## Task 1\n",
    "Why don't we use exhaustive matrix for this?"
   ]
  },
  {
   "cell_type": "code",
   "execution_count": null,
   "metadata": {},
   "outputs": [],
   "source": []
  },
  {
   "cell_type": "markdown",
   "metadata": {},
   "source": [
    "## Task 2\n",
    "Supposed that we want to use 200 classifiers to do this. We could generate the code matrix randomly many many times.\n",
    "\n",
    "Which criteria should we use in selecting the best code matrix?\n",
    "\n",
    "Optional: you can get a better code matrix by doing hill climbing."
   ]
  },
  {
   "cell_type": "code",
   "execution_count": null,
   "metadata": {},
   "outputs": [],
   "source": []
  },
  {
   "cell_type": "markdown",
   "metadata": {},
   "source": [
    "## Task 3\n",
    "Build and ECOC classifier with 200 classifiers using **data/news_topic_test.csv.gz** and test the performance on **data/news_topic_train.csv.gz**(get the accuracy). Make sure you use a decent code table."
   ]
  },
  {
   "cell_type": "code",
   "execution_count": null,
   "metadata": {},
   "outputs": [],
   "source": []
  }
 ],
 "metadata": {
  "kernelspec": {
   "display_name": "Python 3",
   "language": "python",
   "name": "python3"
  },
  "language_info": {
   "codemirror_mode": {
    "name": "ipython",
    "version": 3
   },
   "file_extension": ".py",
   "mimetype": "text/x-python",
   "name": "python",
   "nbconvert_exporter": "python",
   "pygments_lexer": "ipython3",
   "version": "3.7.0"
  },
  "toc": {
   "colors": {
    "hover_highlight": "#DAA520",
    "running_highlight": "#FF0000",
    "selected_highlight": "#FFD700"
   },
   "moveMenuLeft": true,
   "nav_menu": {
    "height": "12px",
    "width": "252px"
   },
   "navigate_menu": true,
   "number_sections": false,
   "sideBar": true,
   "threshold": 4,
   "toc_cell": false,
   "toc_section_display": "block",
   "toc_window_display": false
  }
 },
 "nbformat": 4,
 "nbformat_minor": 2
}
